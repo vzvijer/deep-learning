{
 "cells": [
  {
   "cell_type": "code",
   "execution_count": 1,
   "metadata": {},
   "outputs": [],
   "source": [
    "import tensorflow as tf\n",
    "import matplotlib.pyplot as plt\n",
    "\n",
    "%matplotlib inline"
   ]
  },
  {
   "cell_type": "markdown",
   "metadata": {},
   "source": [
    "## Loading the data"
   ]
  },
  {
   "cell_type": "code",
   "execution_count": 2,
   "metadata": {},
   "outputs": [
    {
     "name": "stdout",
     "output_type": "stream",
     "text": [
      "Out training set contains 60000 images of size 28 x 28 pixels.\n"
     ]
    }
   ],
   "source": [
    "mnist = tf.keras.datasets.mnist\n",
    "(X_train, Y_train), (X_test, Y_test) = mnist.load_data()\n",
    "N, img_height, img_width = X_train.shape\n",
    "print('Out training set contains {} images of size {} x {} pixels.'.format(N, img_height, img_width))"
   ]
  },
  {
   "cell_type": "code",
   "execution_count": 3,
   "metadata": {},
   "outputs": [],
   "source": [
    "# Normalizing the input data\n",
    "X_train = X_train / 255\n",
    "X_test = X_test / 255"
   ]
  },
  {
   "cell_type": "markdown",
   "metadata": {},
   "source": [
    "## Building the model"
   ]
  },
  {
   "cell_type": "code",
   "execution_count": 4,
   "metadata": {},
   "outputs": [],
   "source": [
    "# Build the model\n",
    "model = tf.keras.models.Sequential([\n",
    "    tf.keras.layers.Flatten(input_shape=(img_height, img_width)),\n",
    "    tf.keras.layers.Dense(128, activation='relu'),\n",
    "    tf.keras.layers.Dropout(0.2),\n",
    "    tf.keras.layers.Dense(10, activation='softmax')\n",
    "])"
   ]
  },
  {
   "cell_type": "code",
   "execution_count": 5,
   "metadata": {},
   "outputs": [],
   "source": [
    "# Compile the model\n",
    "model.compile(loss='sparse_categorical_crossentropy', optimizer='adam', metrics=['accuracy'])"
   ]
  },
  {
   "cell_type": "code",
   "execution_count": 6,
   "metadata": {},
   "outputs": [
    {
     "name": "stdout",
     "output_type": "stream",
     "text": [
      "Train on 45000 samples, validate on 15000 samples\n",
      "Epoch 1/10\n",
      "45000/45000 [==============================] - 17s 367us/sample - loss: 0.3422 - accuracy: 0.9006 - val_loss: 0.1684 - val_accuracy: 0.9505\n",
      "Epoch 2/10\n",
      "45000/45000 [==============================] - 15s 343us/sample - loss: 0.1634 - accuracy: 0.9518 - val_loss: 0.1305 - val_accuracy: 0.9613\n",
      "Epoch 3/10\n",
      "45000/45000 [==============================] - 15s 341us/sample - loss: 0.1227 - accuracy: 0.9640 - val_loss: 0.1123 - val_accuracy: 0.9666\n",
      "Epoch 4/10\n",
      "45000/45000 [==============================] - 17s 368us/sample - loss: 0.0984 - accuracy: 0.9701 - val_loss: 0.1013 - val_accuracy: 0.9694\n",
      "Epoch 5/10\n",
      "45000/45000 [==============================] - 17s 383us/sample - loss: 0.0815 - accuracy: 0.9740 - val_loss: 0.1002 - val_accuracy: 0.9704\n",
      "Epoch 6/10\n",
      "45000/45000 [==============================] - 16s 347us/sample - loss: 0.0704 - accuracy: 0.9782 - val_loss: 0.0879 - val_accuracy: 0.9743\n",
      "Epoch 7/10\n",
      "45000/45000 [==============================] - 17s 379us/sample - loss: 0.0631 - accuracy: 0.9800 - val_loss: 0.0837 - val_accuracy: 0.9749\n",
      "Epoch 8/10\n",
      "45000/45000 [==============================] - 16s 364us/sample - loss: 0.0529 - accuracy: 0.9826 - val_loss: 0.0900 - val_accuracy: 0.9737\n",
      "Epoch 9/10\n",
      "45000/45000 [==============================] - 17s 376us/sample - loss: 0.0481 - accuracy: 0.9842 - val_loss: 0.0876 - val_accuracy: 0.9755\n",
      "Epoch 10/10\n",
      "45000/45000 [==============================] - 18s 407us/sample - loss: 0.0466 - accuracy: 0.9849 - val_loss: 0.0869 - val_accuracy: 0.9751\n"
     ]
    }
   ],
   "source": [
    "# Train the model\n",
    "result = model.fit(X_train, Y_train, validation_split=0.25, epochs=10)"
   ]
  },
  {
   "cell_type": "code",
   "execution_count": 9,
   "metadata": {},
   "outputs": [
    {
     "data": {
      "image/png": "[encoded data removed]",
      "text/plain": [
       "<Figure size 432x288 with 1 Axes>"
      ]
     },
     "metadata": {
      "needs_background": "light"
     },
     "output_type": "display_data"
    }
   ],
   "source": [
    "plt.plot(result.history['loss'], label='accuracy')\n",
    "plt.plot(result.history['val_loss'], label='validation accuracy')\n",
    "plt.legend()\n",
    "plt.show()"
   ]
  },
  {
   "cell_type": "code",
   "execution_count": 7,
   "metadata": {},
   "outputs": [
    {
     "data": {
      "image/png": "[encoded data removed]",
      "text/plain": [
       "<Figure size 432x288 with 1 Axes>"
      ]
     },
     "metadata": {
      "needs_background": "light"
     },
     "output_type": "display_data"
    }
   ],
   "source": [
    "plt.plot(result.history['accuracy'], label='accuracy')\n",
    "plt.plot(result.history['val_accuracy'], label='validation accuracy')\n",
    "plt.legend()\n",
    "plt.show()"
   ]
  },
  {
   "cell_type": "markdown",
   "metadata": {},
   "source": [
    "## Evaluating the model"
   ]
  },
  {
   "cell_type": "code",
   "execution_count": 8,
   "metadata": {},
   "outputs": [
    {
     "name": "stdout",
     "output_type": "stream",
     "text": [
      "Evaluation accuracy: 97.77%\n"
     ]
    }
   ],
   "source": [
    "eval_result = model.evaluate(X_test, Y_test, verbose=0)\n",
    "print('Evaluation accuracy: {:.2f}%'.format(eval_result[1] * 100))"
   ]
  },
  {
   "cell_type": "code",
   "execution_count": 15,
   "metadata": {},
   "outputs": [
    {
     "data": {
      "text/plain": [
       "[0.07654548760536127, 0.9777]"
      ]
     },
     "execution_count": 15,
     "metadata": {},
     "output_type": "execute_result"
    }
   ],
   "source": [
    "eval_result"
   ]
  },
  {
   "cell_type": "markdown",
   "metadata": {},
   "source": [
    "## Making predictions"
   ]
  },
  {
   "cell_type": "code",
   "execution_count": 37,
   "metadata": {},
   "outputs": [
    {
     "name": "stdout",
     "output_type": "stream",
     "text": [
      "Label 7 -> predicted 7\n",
      "Label 2 -> predicted 2\n",
      "Label 1 -> predicted 1\n",
      "Label 0 -> predicted 0\n",
      "Label 4 -> predicted 4\n",
      "Label 1 -> predicted 1\n",
      "Label 4 -> predicted 4\n",
      "Label 9 -> predicted 9\n",
      "Label 5 -> predicted 5\n",
      "Label 9 -> predicted 9\n"
     ]
    }
   ],
   "source": [
    "Y = model.predict(X_test).argmax(axis=1)\n",
    "for i in range(10):\n",
    "    print('Label {} -> predicted {}'.format(Y_test[i], Y[i]))    "
   ]
  },
  {
   "cell_type": "markdown",
   "metadata": {},
   "source": [
    "## Analyzing results"
   ]
  },
  {
   "cell_type": "code",
   "execution_count": 41,
   "metadata": {},
   "outputs": [
    {
     "name": "stdout",
     "output_type": "stream",
     "text": [
      "There are 223 badly predicted values in the test set.\n"
     ]
    }
   ],
   "source": [
    "num_of_bad_predictions = 0\n",
    "for i in range(len(Y)):\n",
    "    if Y[i] != Y_test[i]:\n",
    "        num_of_bad_predictions += 1\n",
    "        \n",
    "print('There are {} badly predicted values in the test set.'.format(num_of_bad_predictions))"
   ]
  },
  {
   "cell_type": "code",
   "execution_count": 44,
   "metadata": {},
   "outputs": [
    {
     "name": "stdout",
     "output_type": "stream",
     "text": [
      "Label 4 -> predicted 9\n"
     ]
    },
    {
     "data": {
      "image/png": "[encoded data removed]",
      "text/plain": [
       "<Figure size 432x288 with 1 Axes>"
      ]
     },
     "metadata": {
      "needs_background": "light"
     },
     "output_type": "display_data"
    },
    {
     "name": "stdout",
     "output_type": "stream",
     "text": [
      "Label 4 -> predicted 6\n"
     ]
    },
    {
     "data": {
      "image/png": "[encoded data removed]",
      "text/plain": [
       "<Figure size 432x288 with 1 Axes>"
      ]
     },
     "metadata": {
      "needs_background": "light"
     },
     "output_type": "display_data"
    },
    {
     "name": "stdout",
     "output_type": "stream",
     "text": [
      "Label 2 -> predicted 7\n"
     ]
    },
    {
     "data": {
      "image/png": "[encoded data removed]",
      "text/plain": [
       "<Figure size 432x288 with 1 Axes>"
      ]
     },
     "metadata": {
      "needs_background": "light"
     },
     "output_type": "display_data"
    },
    {
     "name": "stdout",
     "output_type": "stream",
     "text": [
      "Label 5 -> predicted 3\n"
     ]
    },
    {
     "data": {
      "image/png": "[encoded data removed]",
      "text/plain": [
       "<Figure size 432x288 with 1 Axes>"
      ]
     },
     "metadata": {
      "needs_background": "light"
     },
     "output_type": "display_data"
    },
    {
     "name": "stdout",
     "output_type": "stream",
     "text": [
      "Label 6 -> predicted 0\n"
     ]
    },
    {
     "data": {
      "image/png": "[encoded data removed]",
      "text/plain": [
       "<Figure size 432x288 with 1 Axes>"
      ]
     },
     "metadata": {
      "needs_background": "light"
     },
     "output_type": "display_data"
    },
    {
     "name": "stdout",
     "output_type": "stream",
     "text": [
      "Label 4 -> predicted 9\n"
     ]
    },
    {
     "data": {
      "image/png": "[encoded data removed]",
      "text/plain": [
       "<Figure size 432x288 with 1 Axes>"
      ]
     },
     "metadata": {
      "needs_background": "light"
     },
     "output_type": "display_data"
    },
    {
     "name": "stdout",
     "output_type": "stream",
     "text": [
      "Label 8 -> predicted 2\n"
     ]
    },
    {
     "data": {
      "image/png": "[encoded data removed]",
      "text/plain": [
       "<Figure size 432x288 with 1 Axes>"
      ]
     },
     "metadata": {
      "needs_background": "light"
     },
     "output_type": "display_data"
    },
    {
     "name": "stdout",
     "output_type": "stream",
     "text": [
      "Label 8 -> predicted 2\n"
     ]
    },
    {
     "data": {
      "image/png": "[encoded data removed]",
      "text/plain": [
       "<Figure size 432x288 with 1 Axes>"
      ]
     },
     "metadata": {
      "needs_background": "light"
     },
     "output_type": "display_data"
    },
    {
     "name": "stdout",
     "output_type": "stream",
     "text": [
      "Label 2 -> predicted 8\n"
     ]
    },
    {
     "data": {
      "image/png": "[encoded data removed]",
      "text/plain": [
       "<Figure size 432x288 with 1 Axes>"
      ]
     },
     "metadata": {
      "needs_background": "light"
     },
     "output_type": "display_data"
    },
    {
     "name": "stdout",
     "output_type": "stream",
     "text": [
      "Label 1 -> predicted 8\n"
     ]
    },
    {
     "data": {
      "image/png": "[encoded data removed]",
      "text/plain": [
       "<Figure size 432x288 with 1 Axes>"
      ]
     },
     "metadata": {
      "needs_background": "light"
     },
     "output_type": "display_data"
    }
   ],
   "source": [
    "nof_samples = 10\n",
    "for i in range(len(Y)):\n",
    "    if Y[i] != Y_test[i]:\n",
    "        print('Label {} -> predicted {}'.format(Y_test[i], Y[i]))\n",
    "        plt.imshow(X_test[i], cmap='gray')\n",
    "        plt.show()\n",
    "        nof_samples -= 1\n",
    "        if nof_samples == 0:\n",
    "            break"
   ]
  }
 ],
 "metadata": {
  "kernelspec": {
   "display_name": "Python 3",
   "language": "python",
   "name": "python3"
  },
  "language_info": {
   "codemirror_mode": {
    "name": "ipython",
    "version": 3
   },
   "file_extension": ".py",
   "mimetype": "text/x-python",
   "name": "python",
   "nbconvert_exporter": "python",
   "pygments_lexer": "ipython3",
   "version": "3.7.5"
  }
 },
 "nbformat": 4,
 "nbformat_minor": 2
}
